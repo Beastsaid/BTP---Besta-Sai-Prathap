{
 "cells": [
  {
   "cell_type": "code",
   "execution_count": 1,
   "id": "88242a82",
   "metadata": {},
   "outputs": [
    {
     "name": "stderr",
     "output_type": "stream",
     "text": [
      "\u001b[32m\u001b[1m    Updating\u001b[22m\u001b[39m registry at `C:\\Users\\Dell\\.julia\\registries\\General.toml`\n",
      "\u001b[32m\u001b[1m   Resolving\u001b[22m\u001b[39m package versions...\n",
      "\u001b[32m\u001b[1m   Installed\u001b[22m\u001b[39m StaticArraysCore ───── v1.4.3\n",
      "\u001b[32m\u001b[1m   Installed\u001b[22m\u001b[39m DiffRules ──────────── v1.15.1\n",
      "\u001b[32m\u001b[1m   Installed\u001b[22m\u001b[39m DiffResults ────────── v1.1.0\n",
      "\u001b[32m\u001b[1m   Installed\u001b[22m\u001b[39m CommonSubexpressions ─ v0.3.0\n",
      "\u001b[32m\u001b[1m   Installed\u001b[22m\u001b[39m SpecialFunctions ───── v2.4.0\n",
      "\u001b[32m\u001b[1m   Installed\u001b[22m\u001b[39m OpenSpecFun_jll ────── v0.5.5+0\n",
      "\u001b[32m\u001b[1m   Installed\u001b[22m\u001b[39m ForwardDiff ────────── v0.10.36\n",
      "\u001b[32m\u001b[1m    Updating\u001b[22m\u001b[39m `C:\\Users\\Dell\\.julia\\environments\\v1.10\\Project.toml`\n",
      "  \u001b[90m[f6369f11] \u001b[39m\u001b[92m+ ForwardDiff v0.10.36\u001b[39m\n",
      "\u001b[32m\u001b[1m    Updating\u001b[22m\u001b[39m `C:\\Users\\Dell\\.julia\\environments\\v1.10\\Manifest.toml`\n",
      "  \u001b[90m[bbf7d656] \u001b[39m\u001b[92m+ CommonSubexpressions v0.3.0\u001b[39m\n",
      "  \u001b[90m[163ba53b] \u001b[39m\u001b[92m+ DiffResults v1.1.0\u001b[39m\n",
      "  \u001b[90m[b552c78f] \u001b[39m\u001b[92m+ DiffRules v1.15.1\u001b[39m\n",
      "  \u001b[90m[f6369f11] \u001b[39m\u001b[92m+ ForwardDiff v0.10.36\u001b[39m\n",
      "  \u001b[90m[276daf66] \u001b[39m\u001b[92m+ SpecialFunctions v2.4.0\u001b[39m\n",
      "  \u001b[90m[1e83bf80] \u001b[39m\u001b[92m+ StaticArraysCore v1.4.3\u001b[39m\n",
      "  \u001b[90m[efe28fd5] \u001b[39m\u001b[92m+ OpenSpecFun_jll v0.5.5+0\u001b[39m\n",
      "\u001b[32m\u001b[1mPrecompiling\u001b[22m\u001b[39m project...\n",
      "\u001b[32m  ✓ \u001b[39m\u001b[90mCommonSubexpressions\u001b[39m\n",
      "\u001b[32m  ✓ \u001b[39m\u001b[90mStaticArraysCore\u001b[39m\n",
      "\u001b[32m  ✓ \u001b[39m\u001b[90mOpenSpecFun_jll\u001b[39m\n",
      "\u001b[32m  ✓ \u001b[39m\u001b[90mDiffResults\u001b[39m\n",
      "\u001b[32m  ✓ \u001b[39m\u001b[90mSpecialFunctions\u001b[39m\n",
      "\u001b[32m  ✓ \u001b[39m\u001b[90mColorVectorSpace → SpecialFunctionsExt\u001b[39m\n",
      "\u001b[32m  ✓ \u001b[39m\u001b[90mDiffRules\u001b[39m\n",
      "\u001b[32m  ✓ \u001b[39mForwardDiff\n",
      "  8 dependencies successfully precompiled in 11 seconds. 160 already precompiled.\n",
      "\u001b[32m\u001b[1m   Resolving\u001b[22m\u001b[39m package versions...\n",
      "\u001b[32m\u001b[1m   Installed\u001b[22m\u001b[39m StaticArrays ───── v1.9.7\n",
      "\u001b[32m\u001b[1m   Installed\u001b[22m\u001b[39m ChainRulesCore ─── v1.24.0\n",
      "\u001b[32m\u001b[1m   Installed\u001b[22m\u001b[39m FunctionWrappers ─ v1.1.3\n",
      "\u001b[32m\u001b[1m   Installed\u001b[22m\u001b[39m ReverseDiff ────── v1.15.3\n",
      "\u001b[32m\u001b[1m    Updating\u001b[22m\u001b[39m `C:\\Users\\Dell\\.julia\\environments\\v1.10\\Project.toml`\n",
      "  \u001b[90m[37e2e3b7] \u001b[39m\u001b[92m+ ReverseDiff v1.15.3\u001b[39m\n",
      "\u001b[32m\u001b[1m    Updating\u001b[22m\u001b[39m `C:\\Users\\Dell\\.julia\\environments\\v1.10\\Manifest.toml`\n",
      "  \u001b[90m[d360d2e6] \u001b[39m\u001b[92m+ ChainRulesCore v1.24.0\u001b[39m\n",
      "  \u001b[90m[069b7b12] \u001b[39m\u001b[92m+ FunctionWrappers v1.1.3\u001b[39m\n",
      "  \u001b[90m[37e2e3b7] \u001b[39m\u001b[92m+ ReverseDiff v1.15.3\u001b[39m\n",
      "  \u001b[90m[90137ffa] \u001b[39m\u001b[92m+ StaticArrays v1.9.7\u001b[39m\n",
      "\u001b[32m\u001b[1mPrecompiling\u001b[22m\u001b[39m project...\n",
      "\u001b[32m  ✓ \u001b[39m\u001b[90mFunctionWrappers\u001b[39m\n",
      "\u001b[32m  ✓ \u001b[39m\u001b[90mChainRulesCore\u001b[39m\n",
      "\u001b[32m  ✓ \u001b[39m\u001b[90mChainRulesCore → ChainRulesCoreSparseArraysExt\u001b[39m\n",
      "\u001b[32m  ✓ \u001b[39m\u001b[90mLogExpFunctions → LogExpFunctionsChainRulesCoreExt\u001b[39m\n",
      "\u001b[32m  ✓ \u001b[39m\u001b[90mSpecialFunctions → SpecialFunctionsChainRulesCoreExt\u001b[39m\n",
      "\u001b[32m  ✓ \u001b[39m\u001b[90mStaticArrays\u001b[39m\n",
      "\u001b[32m  ✓ \u001b[39m\u001b[90mForwardDiff → ForwardDiffStaticArraysExt\u001b[39m\n",
      "\u001b[32m  ✓ \u001b[39m\u001b[90mStaticArrays → StaticArraysStatisticsExt\u001b[39m\n",
      "\u001b[32m  ✓ \u001b[39m\u001b[90mStaticArrays → StaticArraysChainRulesCoreExt\u001b[39m\n",
      "\u001b[32m  ✓ \u001b[39mReverseDiff\n",
      "  10 dependencies successfully precompiled in 26 seconds. 168 already precompiled.\n"
     ]
    }
   ],
   "source": [
    "using Pkg\n",
    "Pkg.add(\"ForwardDiff\")\n",
    "Pkg.add(\"ReverseDiff\")\n"
   ]
  },
  {
   "cell_type": "code",
   "execution_count": 2,
   "id": "7346b5a4",
   "metadata": {},
   "outputs": [
    {
     "name": "stdout",
     "output_type": "stream",
     "text": [
      "The derivative of f(x) at x = 2.0 is 14.0\n"
     ]
    }
   ],
   "source": [
    "using ForwardDiff\n",
    "\n",
    "# Define the function\n",
    "function f(x)\n",
    "    return 3x^2 + 2x\n",
    "end\n",
    "\n",
    "# Choose a point to evaluate the derivative\n",
    "x = 2.0\n",
    "\n",
    "# Compute the derivative using ForwardDiff\n",
    "derivative = ForwardDiff.derivative(f, x)\n",
    "\n",
    "println(\"The derivative of f(x) at x = $x is $derivative\")\n"
   ]
  },
  {
   "cell_type": "code",
   "execution_count": 1,
   "id": "5260a85d",
   "metadata": {},
   "outputs": [
    {
     "ename": "LoadError",
     "evalue": "MethodError: no method matching ^(::ReverseDiff.TrackedArray{Float64, Float64, 1, Vector{Float64}, Vector{Float64}}, ::Int64)\n\n\u001b[0mClosest candidates are:\n\u001b[0m  ^(\u001b[91m::Irrational{:ℯ}\u001b[39m, ::Integer)\n\u001b[0m\u001b[90m   @\u001b[39m \u001b[90mBase\u001b[39m \u001b[90m\u001b[4mmathconstants.jl:119\u001b[24m\u001b[39m\n\u001b[0m  ^(\u001b[91m::BigFloat\u001b[39m, ::Integer)\n\u001b[0m\u001b[90m   @\u001b[39m \u001b[90mBase\u001b[39m \u001b[90m\u001b[4mmpfr.jl:670\u001b[24m\u001b[39m\n\u001b[0m  ^(\u001b[91m::Float64\u001b[39m, ::Integer)\n\u001b[0m\u001b[90m   @\u001b[39m \u001b[90mBase\u001b[39m \u001b[90m\u001b[4mmath.jl:1246\u001b[24m\u001b[39m\n\u001b[0m  ...\n",
     "output_type": "error",
     "traceback": [
      "MethodError: no method matching ^(::ReverseDiff.TrackedArray{Float64, Float64, 1, Vector{Float64}, Vector{Float64}}, ::Int64)\n\n\u001b[0mClosest candidates are:\n\u001b[0m  ^(\u001b[91m::Irrational{:ℯ}\u001b[39m, ::Integer)\n\u001b[0m\u001b[90m   @\u001b[39m \u001b[90mBase\u001b[39m \u001b[90m\u001b[4mmathconstants.jl:119\u001b[24m\u001b[39m\n\u001b[0m  ^(\u001b[91m::BigFloat\u001b[39m, ::Integer)\n\u001b[0m\u001b[90m   @\u001b[39m \u001b[90mBase\u001b[39m \u001b[90m\u001b[4mmpfr.jl:670\u001b[24m\u001b[39m\n\u001b[0m  ^(\u001b[91m::Float64\u001b[39m, ::Integer)\n\u001b[0m\u001b[90m   @\u001b[39m \u001b[90mBase\u001b[39m \u001b[90m\u001b[4mmath.jl:1246\u001b[24m\u001b[39m\n\u001b[0m  ...\n",
      "",
      "Stacktrace:",
      " [1] literal_pow",
      "   @ .\\intfuncs.jl:351 [inlined]",
      " [2] f(x::ReverseDiff.TrackedArray{Float64, Float64, 1, Vector{Float64}, Vector{Float64}})",
      "   @ Main .\\In[1]:5",
      " [3] ReverseDiff.GradientTape(f::typeof(f), input::Vector{Float64}, cfg::ReverseDiff.GradientConfig{ReverseDiff.TrackedArray{Float64, Float64, 1, Vector{Float64}, Vector{Float64}}})",
      "   @ ReverseDiff C:\\Users\\Dell\\.julia\\packages\\ReverseDiff\\p1MzG\\src\\api\\tape.jl:199",
      " [4] ReverseDiff.GradientTape(f::Function, input::Vector{Float64})",
      "   @ ReverseDiff C:\\Users\\Dell\\.julia\\packages\\ReverseDiff\\p1MzG\\src\\api\\tape.jl:198",
      " [5] top-level scope",
      "   @ In[1]:12"
     ]
    }
   ],
   "source": [
    "using ReverseDiff\n",
    "\n",
    "# Define the function\n",
    "function f(x)\n",
    "    return 3x^2 + 2x\n",
    "end\n",
    "\n",
    "# Choose a point to evaluate the derivative\n",
    "x = [2.0]\n",
    "\n",
    "# Create a tape to record the function\n",
    "tape = ReverseDiff.GradientTape(f, x)\n",
    "\n",
    "# Compile the tape for faster evaluation\n",
    "compiled_tape = ReverseDiff.compile(tape)\n",
    "\n",
    "# Compute the gradient using ReverseDiff\n",
    "gradient = ReverseDiff.gradient!(x, compiled_tape)\n",
    "\n",
    "println(\"The derivative of f(x) at x = $(x[1]) is $(gradient[1])\")\n"
   ]
  },
  {
   "cell_type": "code",
   "execution_count": 2,
   "id": "35eaf064",
   "metadata": {},
   "outputs": [
    {
     "name": "stderr",
     "output_type": "stream",
     "text": [
      "\u001b[32m\u001b[1m   Resolving\u001b[22m\u001b[39m package versions...\n",
      "\u001b[32m\u001b[1m  No Changes\u001b[22m\u001b[39m to `C:\\Users\\Dell\\.julia\\environments\\v1.10\\Project.toml`\n",
      "\u001b[32m\u001b[1m  No Changes\u001b[22m\u001b[39m to `C:\\Users\\Dell\\.julia\\environments\\v1.10\\Manifest.toml`\n"
     ]
    }
   ],
   "source": [
    "using Pkg\n",
    "Pkg.add(\"ForwardDiff\")\n"
   ]
  },
  {
   "cell_type": "code",
   "execution_count": 3,
   "id": "e7ccf78e",
   "metadata": {},
   "outputs": [
    {
     "name": "stdout",
     "output_type": "stream",
     "text": [
      "Stiffness matrix at u = 1.0: 10.0\n"
     ]
    }
   ],
   "source": [
    "using ForwardDiff\n",
    "\n",
    "# Define the potential energy function for a 1D bar element\n",
    "function potential_energy(u, k)\n",
    "    return 0.5 * k * u^2\n",
    "end\n",
    "\n",
    "# Define the stiffness matrix function (second derivative of potential energy)\n",
    "function stiffness_matrix(u, k)\n",
    "    return ForwardDiff.derivative(u -> ForwardDiff.derivative(u -> potential_energy(u, k), u), u)\n",
    "end\n",
    "\n",
    "# Example displacement and stiffness value\n",
    "u = 1.0\n",
    "k = 10.0\n",
    "\n",
    "# Compute the stiffness matrix\n",
    "K = stiffness_matrix(u, k)\n",
    "\n",
    "println(\"Stiffness matrix at u = $u: $K\")\n"
   ]
  },
  {
   "cell_type": "code",
   "execution_count": null,
   "id": "ccac6c8d",
   "metadata": {},
   "outputs": [],
   "source": []
  }
 ],
 "metadata": {
  "kernelspec": {
   "display_name": "Julia 1.10.4",
   "language": "julia",
   "name": "julia-1.10"
  },
  "language_info": {
   "file_extension": ".jl",
   "mimetype": "application/julia",
   "name": "julia",
   "version": "1.10.4"
  },
  "varInspector": {
   "cols": {
    "lenName": 16,
    "lenType": 16,
    "lenVar": 40
   },
   "kernels_config": {
    "python": {
     "delete_cmd_postfix": "",
     "delete_cmd_prefix": "del ",
     "library": "var_list.py",
     "varRefreshCmd": "print(var_dic_list())"
    },
    "r": {
     "delete_cmd_postfix": ") ",
     "delete_cmd_prefix": "rm(",
     "library": "var_list.r",
     "varRefreshCmd": "cat(var_dic_list()) "
    }
   },
   "types_to_exclude": [
    "module",
    "function",
    "builtin_function_or_method",
    "instance",
    "_Feature"
   ],
   "window_display": false
  }
 },
 "nbformat": 4,
 "nbformat_minor": 5
}
